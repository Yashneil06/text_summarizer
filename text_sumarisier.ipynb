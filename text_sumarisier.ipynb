{
  "nbformat": 4,
  "nbformat_minor": 0,
  "metadata": {
    "colab": {
      "name": "text_sumarisier.ipynb",
      "provenance": [],
      "include_colab_link": true
    },
    "kernelspec": {
      "name": "python3",
      "display_name": "Python 3"
    },
    "language_info": {
      "name": "python"
    }
  },
  "cells": [
    {
      "cell_type": "markdown",
      "metadata": {
        "id": "view-in-github",
        "colab_type": "text"
      },
      "source": [
        "<a href=\"https://colab.research.google.com/github/Yashneil06/text_summarizer/blob/main/text_sumarisier.ipynb\" target=\"_parent\"><img src=\"https://colab.research.google.com/assets/colab-badge.svg\" alt=\"Open In Colab\"/></a>"
      ]
    },
    {
      "cell_type": "markdown",
      "source": [
        "# Text Summarisation\n",
        "\n",
        "Recall an earlier notebook where you were given a task to summarise online content and produce a report. We converted an audio file to text. Similarly, we could write a notebook to convert a PDF or Word document to text or Web pages to text. The strategy is to convert everything to text, summarise the text, and use the summary in the final report.\n",
        "\n",
        "# The Challenge\n",
        "\n",
        "Create a project to summarise text and publish the project in Binder. \n",
        "\n",
        "You can choose how to input the text.  Some ideas include pasting it into a string, reading from a file, extract from a PDF or a webpage. \n",
        " \n",
        "It is okay to follow a online tutoirial or youtube video but make sure you have some understanding of what you are doing. You can ask you tutor for help if needed.  They will either help search, or perhaps explain the code in a tutorial.\n",
        "\n",
        "\n",
        "# Task 0 - Initialise a NEW repository\n",
        "\n",
        "We are going to deploy this notebook using Binder.\n",
        "\n",
        "* Initialise a new PUBLIC GitHub repository, say called, text_summariser.\n",
        "* Import this notebook into the new repository\n",
        "\n"
      ],
      "metadata": {
        "id": "SmVEXRTA1wZn"
      }
    },
    {
      "cell_type": "code",
      "source": [
        "!pip install PyPDF2"
      ],
      "metadata": {
        "id": "48RNuGBQIHQ0",
        "colab": {
          "base_uri": "https://localhost:8080/"
        },
        "outputId": "86108e5d-a711-4d14-daad-dd009c4f449e"
      },
      "execution_count": 1,
      "outputs": [
        {
          "output_type": "stream",
          "name": "stdout",
          "text": [
            "Collecting PyPDF2\n",
            "  Downloading PyPDF2-1.27.5-py3-none-any.whl (64 kB)\n",
            "\u001b[?25l\r\u001b[K     |█████                           | 10 kB 13.3 MB/s eta 0:00:01\r\u001b[K     |██████████                      | 20 kB 20.0 MB/s eta 0:00:01\r\u001b[K     |███████████████▏                | 30 kB 14.3 MB/s eta 0:00:01\r\u001b[K     |████████████████████▏           | 40 kB 11.5 MB/s eta 0:00:01\r\u001b[K     |█████████████████████████▎      | 51 kB 6.3 MB/s eta 0:00:01\r\u001b[K     |██████████████████████████████▎ | 61 kB 7.4 MB/s eta 0:00:01\r\u001b[K     |████████████████████████████████| 64 kB 3.1 MB/s \n",
            "\u001b[?25hInstalling collected packages: PyPDF2\n",
            "Successfully installed PyPDF2-1.27.5\n"
          ]
        }
      ]
    },
    {
      "cell_type": "code",
      "source": [
        "from PyPDF2.pdf import PageObject\n",
        "from PyPDF2 import PdfFileReader, PdfFileWriter\n",
        "\n",
        "file_path = '/content/16.1 Purpose of an Operating System (MT-L).pdf'\n",
        "pdf = PdfFileReader(file_path)\n",
        "\n",
        "with open('my_converted_doc.txt', 'w') as c:\n",
        "  for page_number in range(pdf.numPages):\n",
        "      \n",
        "    PageObj = pdf.getPage(page_number)\n",
        "\n",
        "    try:\n",
        "        txt = PageObj.extractText()\n",
        "        print(''.center(100, '_'))\n",
        "    except:\n",
        "        pass\n",
        "    else:\n",
        "        c.write('Page {0}\\n' .format(page_number+1))\n",
        "        c.write(''.center(100, '_'))\n",
        "  c.close()\n",
        "print(\"It has been successfully written to file\")"
      ],
      "metadata": {
        "id": "9Teg5nBdqI7u"
      },
      "execution_count": null,
      "outputs": []
    }
  ]
}